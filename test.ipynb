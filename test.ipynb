{
 "cells": [
  {
   "cell_type": "code",
   "execution_count": null,
   "id": "2271f6c8",
   "metadata": {},
   "outputs": [],
   "source": [
    "import io\n",
    "import matplotlib.pyplot as plt\n",
    "from reportlab.platypus import SimpleDocTemplate, Image, Paragraph, Table, TableStyle\n",
    "from reportlab.lib.styles import getSampleStyleSheet\n",
    "from reportlab.lib import colors\n",
    "\n",
    "# 1. Generate the chart using Matplotlib\n",
    "fig, ax = plt.subplots()\n",
    "ax.plot([1, 2, 3, 4], [5, 6, 7, 8])\n",
    "ax.set_title('My Chart')\n",
    "\n",
    "# 2. Save the chart to a BytesIO object (in-memory)\n",
    "buffer = io.BytesIO()\n",
    "plt.savefig(buffer, format='png')  # Save as PNG format\n",
    "buffer.seek(0)  # Rewind the buffer\n",
    "\n",
    "# 3. Read the image from the buffer\n",
    "chart_image = Image(buffer)\n",
    "\n",
    "# 4. Create the ReportLab document\n",
    "doc = SimpleDocTemplate(\"report_with_chart_and_table.pdf\")\n",
    "story = []\n",
    "styles = getSampleStyleSheet()\n",
    "\n",
    "# Add a title\n",
    "story.append(Paragraph(\"Report with Chart and Table\", styles['h1']))\n",
    "\n",
    "# Add the chart\n",
    "story.append(chart_image)\n",
    "\n",
    "# Add a table\n",
    "# Define table data\n",
    "data = [\n",
    "    ['Header 1', 'Header 2', 'Header 3'],\n",
    "    ['Row 1, Col 1', 'Row 1, Col 2', 'Row 1, Col 3'],\n",
    "    ['Row 2, Col 1', 'Row 2, Col 2', 'Row 2, Col 3']\n",
    "]\n",
    "\n",
    "# Create a Table object\n",
    "table = Table(data)\n",
    "\n",
    "# Apply table style (optional)\n",
    "style = TableStyle([\n",
    "    ('BACKGROUND', (0, 0), (-1, 0), colors.grey),  # Header row background\n",
    "    ('TEXTCOLOR', (0, 0), (-1, 0), colors.whitesmoke), # Header row text color\n",
    "    ('ALIGN', (0, 0), (-1, -1), 'CENTER'),  # Center align all cells\n",
    "    ('FONTNAME', (0, 0), (-1, 0), 'Helvetica-Bold'), # Header font\n",
    "    ('BOTTOMPADDING', (0, 0), (-1, 0), 12),  # Header padding\n",
    "    ('BACKGROUND', (0, 1), (-1, -1), colors.beige),  # Data rows background\n",
    "    ('GRID', (0, 0), (-1, -1), 1, colors.black)  # Add grid lines\n",
    "])\n",
    "\n",
    "table.setStyle(style)\n",
    "\n",
    "# Add the table to the story\n",
    "story.append(table)\n",
    "\n",
    "# Build the PDF document\n",
    "doc.build(story)\n",
    "\n",
    "# Close the plot figure to free up memory\n",
    "plt.close(fig)\n"
   ]
  },
  {
   "cell_type": "code",
   "execution_count": null,
   "id": "a9e878f3",
   "metadata": {},
   "outputs": [],
   "source": [
    "import pandas as pd\n",
    "url = 'https://archive.ics.uci.edu/ml/machine-learning-databases/00352/Online%20Retail.xlsx'  # Placeholder URL\n",
    "\n",
    "try:\n",
    "    # Read all sheets into a dictionary of DataFrames\n",
    "    all_sheets_data = pd.read_excel(url, sheet_name=None)  # Use sheet_name=None for all sheets\n",
    "\n",
    "    # Now, all_sheets_data is a dictionary where keys are sheet names\n",
    "    # and values are the DataFrames for each sheet.\n",
    "    # You can access each sheet's data using its name:\n",
    "    # For example, to access the data from the first sheet (assuming it's named 'Online Retail'):\n",
    "    # first_sheet_df = all_sheets_data['Online Retail']\n",
    "\n",
    "    # You can loop through the dictionary to access each sheet's data:\n",
    "    for sheet_name, df in all_sheets_data.items():\n",
    "        print(f\"Data from sheet: {sheet_name}\")\n",
    "        print(df.head()) # Print the first 5 rows of each sheet\n",
    "        print(\"-\" * 30) # Separator for clarity\n",
    "\n",
    "except Exception as e:\n",
    "    print(f\"Error loading data from the URL: {e}\")\n",
    "    print(\"Ensure the URL points to a valid Excel file and that the 'openpyxl' library is installed ('pip install openpyxl').\")"
   ]
  },
  {
   "cell_type": "code",
   "execution_count": null,
   "id": "79c65cae",
   "metadata": {},
   "outputs": [],
   "source": [
    "df.head()"
   ]
  },
  {
   "cell_type": "code",
   "execution_count": null,
   "id": "1e90e754",
   "metadata": {},
   "outputs": [],
   "source": [
    "print(df['Country'].unique())"
   ]
  },
  {
   "cell_type": "code",
   "execution_count": null,
   "id": "e429729d",
   "metadata": {},
   "outputs": [],
   "source": [
    "missing_df = (\n",
    "    df.isnull().sum() / len(df) * 100\n",
    ").reset_index()\n",
    "\n",
    "missing_df.columns = ['Column Name', 'Missing Values (%)']\n",
    "\n",
    "missing_df = missing_df.sort_values(by='Missing Values (%)', ascending=False)\n",
    "\n",
    "missing_df"
   ]
  },
  {
   "cell_type": "code",
   "execution_count": null,
   "id": "fcd34193",
   "metadata": {},
   "outputs": [],
   "source": [
    "import os\n",
    "DATA_FILE_PATH = os.path.abspath('.')\n",
    "FILE_NAME = 'DATA\\data.csv'\n",
    "os.path.join(DATA_FILE_PATH,FILE_NAME)"
   ]
  },
  {
   "cell_type": "code",
   "execution_count": null,
   "id": "1657a1ca",
   "metadata": {},
   "outputs": [],
   "source": [
    "os.getcwd()"
   ]
  },
  {
   "cell_type": "code",
   "execution_count": null,
   "id": "4f724cd4",
   "metadata": {},
   "outputs": [],
   "source": [
    "import io\n",
    "import matplotlib.pyplot as plt\n",
    "from reportlab.platypus import SimpleDocTemplate, Image, Paragraph, Table, TableStyle,ListFlowable, ListItem\n",
    "from reportlab.lib.styles import getSampleStyleSheet\n",
    "from reportlab.lib import colors\n",
    "\n",
    "# 1. Generate the chart using Matplotlib\n",
    "fig, ax = plt.subplots()\n",
    "ax.plot([1, 2, 3, 4], [5, 6, 7, 8])\n",
    "ax.set_title('My Chart')\n",
    "\n",
    "# 2. Save the chart to a BytesIO object (in-memory)\n",
    "buffer = io.BytesIO()\n",
    "plt.savefig(buffer, format='png')  # Save as PNG format\n",
    "buffer.seek(0)  # Rewind the buffer\n",
    "\n",
    "# 3. Read the image from the buffer\n",
    "chart_image = Image(buffer)\n",
    "\n",
    "# 4. Create the ReportLab document\n",
    "doc = SimpleDocTemplate(\"report_with_chart_and_table.pdf\")\n",
    "story = []\n",
    "styles = getSampleStyleSheet()\n",
    "\n",
    "# Add a title\n",
    "story.append(Paragraph(\"Report with Chart and Table\", styles['h1']))\n",
    "\n",
    "# Add the chart\n",
    "story.append(chart_image)\n",
    "\n",
    "# Add a table\n",
    "# Define table data\n",
    "data = [\n",
    "    ['Header 1', 'Header 2', 'Header 3'],\n",
    "    ['Row 1, Col 1', 'Row 1, Col 2', 'Row 1, Col 3'],\n",
    "    ['Row 2, Col 1', 'Row 2, Col 2', 'Row 2, Col 3']\n",
    "]\n",
    "\n",
    "# Create a Table object\n",
    "table = Table(data)\n",
    "\n",
    "# Apply table style (optional)\n",
    "style = TableStyle([\n",
    "    ('BACKGROUND', (0, 0), (-1, 0), colors.grey),  # Header row background\n",
    "    ('TEXTCOLOR', (0, 0), (-1, 0), colors.whitesmoke), # Header row text color\n",
    "    ('ALIGN', (0, 0), (-1, -1), 'CENTER'),  # Center align all cells\n",
    "    ('FONTNAME', (0, 0), (-1, 0), 'Helvetica-Bold'), # Header font\n",
    "    ('BOTTOMPADDING', (0, 0), (-1, 0), 12),  # Header padding\n",
    "    ('BACKGROUND', (0, 1), (-1, -1), colors.beige),  # Data rows background\n",
    "    ('GRID', (0, 0), (-1, -1), 1, colors.black)  # Add grid lines\n",
    "])\n",
    "\n",
    "table.setStyle(style)\n",
    "\n",
    "# Add the table to the story\n",
    "story.append(table)\n",
    "unique_countries = \", \".join(df['Country'].unique())\n",
    "story.append(Paragraph(\"Key Takeaways:\", styles['h1']))\n",
    "\n",
    "missing_df = (\n",
    "    df.isnull().sum() / len(df) * 100\n",
    ").reset_index()\n",
    "\n",
    "missing_df.columns = ['Column Name', 'Missing Values (%)']\n",
    "\n",
    "missing_df = missing_df.sort_values(by='Missing Values (%)', ascending=False)\n",
    "missing_df['Missing Values (%)'] = missing_df['Missing Values (%)'].round(2) \n",
    "missing_table_data = [missing_df.columns.tolist()] + missing_df.values.tolist()\n",
    "\n",
    "missing_table = Table(missing_table_data)\n",
    "\n",
    "# Create bullet points\n",
    "bullet_points = [\n",
    "    f\"The dataset contains {len(df['Country'].unique())} unique countries.\",\n",
    "    f\"Unique Countries are: {', '.join(df['Country'].unique())}\"]\n",
    "\n",
    "# Create a bullet list\n",
    "bullet_list = ListFlowable(\n",
    "    [ListItem(Paragraph(point, styles['Normal'])) for point in bullet_points],\n",
    "    bulletType='bullet',\n",
    "    start='bulletchar',  # You can use '1' for numbered list\n",
    "    bulletFontName='Helvetica'\n",
    ")\n",
    "\n",
    "# Add the list to the story\n",
    "story.append(bullet_list)\n",
    "\n",
    "story.append(Paragraph(\"Missing Values Summary Table:\", styles['h4']))\n",
    "story.append(missing_table)\n",
    "\n",
    "# Build the PDF document\n",
    "doc.build(story)\n",
    "\n",
    "# Close the plot figure to free up memory\n",
    "plt.close(fig)"
   ]
  },
  {
   "cell_type": "code",
   "execution_count": null,
   "id": "c3d02fc3",
   "metadata": {},
   "outputs": [],
   "source": [
    "import pandas as pd\n",
    "df = pd.read_csv('online_retail\\\\data\\\\data.csv')\n",
    "df_1 = df.copy(deep=True)\n",
    "\n",
    "df_1.dropna(inplace=True)\n",
    "df_1= df_1.loc[(df_1['Quantity']>0) & (df_1['UnitPrice']>0)] # Quantaties < 0 were dropped\n",
    "df_1.shape"
   ]
  },
  {
   "cell_type": "code",
   "execution_count": null,
   "id": "f2e76d61",
   "metadata": {},
   "outputs": [],
   "source": [
    "col = df_1.select_dtypes(include='object').columns\n",
    "df_1[col]  = df_1[col].astype('category')"
   ]
  },
  {
   "cell_type": "code",
   "execution_count": null,
   "id": "ae7f1724",
   "metadata": {},
   "outputs": [],
   "source": [
    "df_1.head()"
   ]
  },
  {
   "cell_type": "code",
   "execution_count": null,
   "id": "d75dc8a2",
   "metadata": {},
   "outputs": [],
   "source": [
    "import seaborn as sns\n",
    "import matplotlib.pyplot as plt\n",
    "\n",
    "# Sort countries by count\n",
    "country_order = df_1['Country'].value_counts(ascending=False).head().index\n",
    "\n",
    "# Create horizontal count plot\n",
    "sns.countplot(x='Country', data=df_1, order=country_order)\n",
    "\n",
    "plt.title('Record counts for the top 5 countries')\n",
    "plt.xlabel('Countries')\n",
    "plt.ylabel('Count')\n",
    "plt.xticks(rotation=90)\n",
    "plt.tight_layout()\n",
    "plt.show()\n"
   ]
  },
  {
   "cell_type": "code",
   "execution_count": null,
   "id": "20cb494e",
   "metadata": {},
   "outputs": [],
   "source": [
    "sns.lineplot(data=df_1, y= 'UnitPrice',x='Quantity')\n",
    "plt.title('Quantity vs Unit Price')\n",
    "plt.xlabel('Quantity')\n",
    "plt.ylabel('Price')\n",
    "plt.tight_layout()\n",
    "plt.show()"
   ]
  },
  {
   "cell_type": "code",
   "execution_count": null,
   "id": "ca59c901",
   "metadata": {},
   "outputs": [],
   "source": [
    "price_high = df_1.sort_values(by='UnitPrice',ascending=False)\n",
    "price_high.loc[df_1['Description']=='Manual'].sort_values(by=['UnitPrice','CustomerID'],ascending=False)"
   ]
  },
  {
   "cell_type": "code",
   "execution_count": null,
   "id": "4e6df2d3",
   "metadata": {},
   "outputs": [],
   "source": [
    "df_1['InvoiceDate'] = pd.to_datetime(df_1['InvoiceDate'])"
   ]
  },
  {
   "cell_type": "code",
   "execution_count": null,
   "id": "84c473e9",
   "metadata": {},
   "outputs": [],
   "source": [
    "df_1['Year'] = df_1['InvoiceDate'].dt.year\n",
    "df_1['Month'] = df_1['InvoiceDate'].dt.month\n",
    "df_1['YearMonth'] = df_1['InvoiceDate'].dt.to_period('M').astype('category')"
   ]
  },
  {
   "cell_type": "code",
   "execution_count": null,
   "id": "b7a12b1b",
   "metadata": {},
   "outputs": [],
   "source": [
    "import seaborn as sns\n",
    "# Aggregate sum of Quantity by Year\n",
    "agg_df = df_1.groupby('Year')['Quantity'].sum().reset_index()\n",
    "\n",
    "# Plot using seaborn barplot\n",
    "sns.barplot(data=agg_df, x='Year', y='Quantity')\n",
    "\n",
    "plt.title('Total Quantity sold per Year')\n",
    "plt.xlabel('Year')\n",
    "plt.ylabel('Total Quantity')\n",
    "plt.show()\n"
   ]
  },
  {
   "cell_type": "code",
   "execution_count": null,
   "id": "3e95a3b1",
   "metadata": {},
   "outputs": [],
   "source": [
    "# Aggregate sum of Quantity by Year\n",
    "df_2.info()\n",
    "\n"
   ]
  },
  {
   "cell_type": "code",
   "execution_count": null,
   "id": "e4e7a68d",
   "metadata": {},
   "outputs": [],
   "source": [
    "months = [\"Jan\", \"Feb\", \"Mar\", \"Apr\", \"May\", \"Jun\", \n",
    "           \"Jul\", \"Aug\", \"Sep\", \"Oct\", \"Nov\", \"Dec\"]\n",
    "df_2 = df_1.loc[df_1['Year'] == 2011].copy(deep=True)\n",
    "df_2.groupby(['Month'])['Quantity'].sum().reset_index()\n",
    "\n",
    "agg_df['Month'] = pd.Categorical(agg_df['Month'], categories=months, ordered=True)\n",
    "# # # Plot using seaborn barplot\n",
    "sns.barplot(data=agg_df, x='Month', y='Quantity')\n",
    "\n",
    "# plt.title('Monthly Quantities Sold - 2011')\n",
    "# plt.xlabel('Month')\n",
    "# plt.ylabel('Total Quantity')\n",
    "# plt.show()"
   ]
  },
  {
   "cell_type": "code",
   "execution_count": null,
   "id": "3dc22aae",
   "metadata": {},
   "outputs": [],
   "source": [
    "df_2.info()"
   ]
  },
  {
   "cell_type": "code",
   "execution_count": null,
   "id": "9e2418c4",
   "metadata": {},
   "outputs": [],
   "source": [
    "relation = df_2.loc[(df_2['Month'].isin ([9,10,11]))]\n",
    "relation_qt_month = relation[['Quantity','Month','UnitPrice']]\n",
    "correlation_matrix = relation_qt_month.corr()\n",
    "\n",
    "plt.figure(figsize=(8, 6)) # Adjust figure size as needed\n",
    "sns.heatmap(correlation_matrix, annot=True, cmap='coolwarm', fmt=\".2f\")\n",
    "plt.title('Correlation Matrix Heatmap')\n",
    "plt.show()"
   ]
  },
  {
   "cell_type": "code",
   "execution_count": null,
   "id": "763e5088",
   "metadata": {},
   "outputs": [],
   "source": [
    "df_2['CustomerID'] = df_2['CustomerID'].astype('int32')\n",
    "agg_df = df_2.groupby('CustomerID')['Quantity'].sum().nlargest(5).reset_index().sort_values(by='Quantity',ascending=False)\n",
    "sns.barplot(agg_df,x='CustomerID',y='Quantity',order=agg_df['CustomerID'])\n",
    "plt.title('Highest Purchasing Customers (by Quantity)')\n",
    "plt.xlabel('Customer ID')\n",
    "plt.ylabel('Total Quantity')\n",
    "plt.show()"
   ]
  },
  {
   "cell_type": "code",
   "execution_count": null,
   "id": "d77d1e59",
   "metadata": {},
   "outputs": [],
   "source": [
    "df_2['Weekday'] = df_2['InvoiceDate'].dt.day_name()\n",
    "\n",
    "plt.figure(figsize=(10, 6))\n",
    "sns.countplot(data=df_2, x='Weekday', hue='am_pm', order=[\n",
    "              'Monday', 'Tuesday', 'Wednesday', 'Thursday', 'Friday', 'Saturday', 'Sunday'])\n",
    "plt.title('Transactions by Weekday and Time of Day')\n",
    "plt.xlabel('Day of the Week')\n",
    "plt.ylabel('Number of Transactions')\n",
    "plt.legend(title='Time of Day')\n",
    "plt.xticks(rotation=45)\n",
    "plt.show()\n"
   ]
  },
  {
   "cell_type": "code",
   "execution_count": null,
   "id": "5e4556c6",
   "metadata": {},
   "outputs": [],
   "source": [
    "df_2.head()"
   ]
  }
 ],
 "metadata": {
  "kernelspec": {
   "display_name": "Python 3",
   "language": "python",
   "name": "python3"
  },
  "language_info": {
   "codemirror_mode": {
    "name": "ipython",
    "version": 3
   },
   "file_extension": ".py",
   "mimetype": "text/x-python",
   "name": "python",
   "nbconvert_exporter": "python",
   "pygments_lexer": "ipython3",
   "version": "3.10.0"
  }
 },
 "nbformat": 4,
 "nbformat_minor": 5
}
